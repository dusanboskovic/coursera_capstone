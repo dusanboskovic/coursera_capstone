{
 "nbformat": 4,
 "nbformat_minor": 2,
 "metadata": {
  "language_info": {
   "name": "python",
   "codemirror_mode": {
    "name": "ipython",
    "version": 3
   },
   "version": "3.8.1-final"
  },
  "orig_nbformat": 2,
  "file_extension": ".py",
  "mimetype": "text/x-python",
  "name": "python",
  "npconvert_exporter": "python",
  "pygments_lexer": "ipython3",
  "version": 3,
  "kernelspec": {
   "name": "python3",
   "display_name": "Python 3"
  }
 },
 "cells": [
  {
   "cell_type": "code",
   "execution_count": 3,
   "metadata": {},
   "outputs": [],
   "source": [
    "import pandas as pd \n",
    "import numpy as np \n",
    "import re\n",
    "import requests\n",
    "from bs4 import BeautifulSoup\n",
    "import geocoder"
   ]
  },
  {
   "cell_type": "code",
   "execution_count": 24,
   "metadata": {},
   "outputs": [],
   "source": [
    "url_to_open = \"https://en.wikipedia.org/wiki/List_of_postal_codes_of_Canada:_M\"\n",
    "html = requests.get(url_to_open)\n",
    "\n",
    "soup = BeautifulSoup(html.content, 'lxml')\n",
    "table = soup.find(\"table\").find(\"tbody\").find_all(\"tr\")\n",
    "\n",
    "postalCodes_list = []\n",
    "borough_list = []\n",
    "neighbourhood_list = []\n",
    "\n",
    "# chars to remove\n",
    "bad_chars = '()'\n",
    "i = 0\n",
    "for row in table:\n",
    "    rows = row.find_all('td')\n",
    "    for x in rows:\n",
    "        x_clean = x.get_text().strip()\n",
    "        match = re.search(r\"\\([^)]+\\)\", x_clean)\n",
    "        if match:\n",
    "            match_text = match.group(0)\n",
    "            for c in bad_chars: match_text = match_text.replace(c, \"\")\n",
    "            match_text = match_text.replace('/', \",\")\n",
    "            neighbourhood_list.append(match_text)\n",
    "            postalCodes_list.append(x_clean[:3])\n",
    "            borough = (x_clean[3:]).split('(')[0]\n",
    "            borough_list.append(borough)\n",
    "\n",
    "#postalCodes = {\"Postal Code\" : postalCodes_list}\n",
    "#boroughs = {\"Boroughs\" : borough_list}\n",
    "#neighbourhoods = {\"Neighbourhoods\" : neighbourhood_list}"
   ]
  },
  {
   "cell_type": "code",
   "execution_count": 30,
   "metadata": {},
   "outputs": [
    {
     "data": {
      "text/html": "<div>\n<style scoped>\n    .dataframe tbody tr th:only-of-type {\n        vertical-align: middle;\n    }\n\n    .dataframe tbody tr th {\n        vertical-align: top;\n    }\n\n    .dataframe thead th {\n        text-align: right;\n    }\n</style>\n<table border=\"1\" class=\"dataframe\">\n  <thead>\n    <tr style=\"text-align: right;\">\n      <th></th>\n      <th>Postal Codes</th>\n      <th>Boroughs</th>\n      <th>Neighbourhoods</th>\n      <th>Latitude</th>\n      <th>Logitude</th>\n    </tr>\n  </thead>\n  <tbody>\n  </tbody>\n</table>\n</div>",
      "text/plain": "Empty DataFrame\nColumns: [Postal Codes, Boroughs, Neighbourhoods, Latitude, Logitude]\nIndex: []"
     },
     "execution_count": 30,
     "metadata": {},
     "output_type": "execute_result"
    }
   ],
   "source": [
    "column_names= ['Postal Codes', 'Boroughs', 'Neighbourhoods', 'Latitude', 'Logitude']\n",
    "df  = pd.DataFrame(columns=column_names)\n",
    "df\n",
    "# df = pd.concat([df1, df2, df3], axis=1, sort=False)\n",
    "#df = df[~df.Boroughs.str.contains('Not assigned')].reset_index(drop=True)"
   ]
  },
  {
   "cell_type": "code",
   "execution_count": 32,
   "metadata": {},
   "outputs": [
    {
     "data": {
      "text/html": "<div>\n<style scoped>\n    .dataframe tbody tr th:only-of-type {\n        vertical-align: middle;\n    }\n\n    .dataframe tbody tr th {\n        vertical-align: top;\n    }\n\n    .dataframe thead th {\n        text-align: right;\n    }\n</style>\n<table border=\"1\" class=\"dataframe\">\n  <thead>\n    <tr style=\"text-align: right;\">\n      <th></th>\n      <th>Postal Codes</th>\n      <th>Boroughs</th>\n      <th>Neighbourhoods</th>\n      <th>Latitude</th>\n      <th>Logitude</th>\n    </tr>\n  </thead>\n  <tbody>\n    <tr>\n      <th>0</th>\n      <td>M3A</td>\n      <td>North York</td>\n      <td>Parkwoods</td>\n      <td>43.752420</td>\n      <td>-79.329242</td>\n    </tr>\n    <tr>\n      <th>1</th>\n      <td>M4A</td>\n      <td>North York</td>\n      <td>Victoria Village</td>\n      <td>43.730600</td>\n      <td>-79.313265</td>\n    </tr>\n    <tr>\n      <th>2</th>\n      <td>M5A</td>\n      <td>Downtown Toronto</td>\n      <td>Regent Park , Harbourfront</td>\n      <td>43.650295</td>\n      <td>-79.359166</td>\n    </tr>\n    <tr>\n      <th>3</th>\n      <td>M6A</td>\n      <td>North York</td>\n      <td>Lawrence Manor , Lawrence Heights</td>\n      <td>43.723270</td>\n      <td>-79.451286</td>\n    </tr>\n    <tr>\n      <th>4</th>\n      <td>M9A</td>\n      <td>Etobicoke</td>\n      <td>Islington Avenue</td>\n      <td>43.662299</td>\n      <td>-79.528195</td>\n    </tr>\n    <tr>\n      <th>...</th>\n      <td>...</td>\n      <td>...</td>\n      <td>...</td>\n      <td>...</td>\n      <td>...</td>\n    </tr>\n    <tr>\n      <th>97</th>\n      <td>M8X</td>\n      <td>Etobicoke</td>\n      <td>The Kingsway , Montgomery Road , Old Mill North</td>\n      <td>43.653760</td>\n      <td>-79.510890</td>\n    </tr>\n    <tr>\n      <th>98</th>\n      <td>M4Y</td>\n      <td>Downtown Toronto</td>\n      <td>Church and Wellesley</td>\n      <td>43.666585</td>\n      <td>-79.381302</td>\n    </tr>\n    <tr>\n      <th>99</th>\n      <td>M7Y</td>\n      <td>East TorontoBusiness reply mail Processing Cen...</td>\n      <td>Enclave of M4L</td>\n      <td>43.648690</td>\n      <td>-79.385440</td>\n    </tr>\n    <tr>\n      <th>100</th>\n      <td>M8Y</td>\n      <td>Etobicoke</td>\n      <td>Old Mill South , King's Mill Park , Sunnylea ,...</td>\n      <td>43.632835</td>\n      <td>-79.489550</td>\n    </tr>\n    <tr>\n      <th>101</th>\n      <td>M8Z</td>\n      <td>Etobicoke</td>\n      <td>Mimico NW , The Queensway West , South of Bloo...</td>\n      <td>43.624630</td>\n      <td>-79.526950</td>\n    </tr>\n  </tbody>\n</table>\n<p>102 rows × 5 columns</p>\n</div>",
      "text/plain": "    Postal Codes                                           Boroughs  \\\n0            M3A                                         North York   \n1            M4A                                         North York   \n2            M5A                                   Downtown Toronto   \n3            M6A                                         North York   \n4            M9A                                          Etobicoke   \n..           ...                                                ...   \n97           M8X                                          Etobicoke   \n98           M4Y                                   Downtown Toronto   \n99           M7Y  East TorontoBusiness reply mail Processing Cen...   \n100          M8Y                                          Etobicoke   \n101          M8Z                                          Etobicoke   \n\n                                        Neighbourhoods   Latitude   Logitude  \n0                                            Parkwoods  43.752420 -79.329242  \n1                                     Victoria Village  43.730600 -79.313265  \n2                           Regent Park , Harbourfront  43.650295 -79.359166  \n3                    Lawrence Manor , Lawrence Heights  43.723270 -79.451286  \n4                                     Islington Avenue  43.662299 -79.528195  \n..                                                 ...        ...        ...  \n97     The Kingsway , Montgomery Road , Old Mill North  43.653760 -79.510890  \n98                                Church and Wellesley  43.666585 -79.381302  \n99                                      Enclave of M4L  43.648690 -79.385440  \n100  Old Mill South , King's Mill Park , Sunnylea ,...  43.632835 -79.489550  \n101  Mimico NW , The Queensway West , South of Bloo...  43.624630 -79.526950  \n\n[102 rows x 5 columns]"
     },
     "execution_count": 32,
     "metadata": {},
     "output_type": "execute_result"
    }
   ],
   "source": [
    "# initialize your variable to None\n",
    "lat_lng_coords = None\n",
    "\n",
    "# loop until you get the coordinates\n",
    "for x in range(len(postalCodes_list)):\n",
    "    g = geocoder.arcgis('{}, Toronto, Ontario'.format(postalCodes_list[x]))\n",
    "    lat_lng_coords = g.latlng\n",
    "\n",
    "    p = postalCodes_list[x]\n",
    "    b = borough_list[x]\n",
    "    n = neighbourhood_list[x]\n",
    "    latitude = lat_lng_coords[0]\n",
    "    longitude = lat_lng_coords[1]\n",
    "\n",
    "    df = df.append({'Postal Codes' : p,\n",
    "                    'Boroughs' : b,\n",
    "                    'Neighbourhoods' : n,\n",
    "                    'Latitude' : latitude,\n",
    "                    'Logitude' : longitude},\n",
    "                    ignore_index=True\n",
    "    )\n",
    "df\n"
   ]
  },
  {
   "cell_type": "code",
   "execution_count": 31,
   "metadata": {},
   "outputs": [
    {
     "data": {
      "text/plain": "(0, 5)"
     },
     "execution_count": 31,
     "metadata": {},
     "output_type": "execute_result"
    }
   ],
   "source": [
    "df.shape"
   ]
  }
 ]
}