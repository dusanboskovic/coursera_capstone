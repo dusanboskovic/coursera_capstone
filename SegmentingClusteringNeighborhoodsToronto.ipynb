{
 "nbformat": 4,
 "nbformat_minor": 2,
 "metadata": {
  "language_info": {
   "name": "python",
   "codemirror_mode": {
    "name": "ipython",
    "version": 3
   },
   "version": "3.8.1-final"
  },
  "orig_nbformat": 2,
  "file_extension": ".py",
  "mimetype": "text/x-python",
  "name": "python",
  "npconvert_exporter": "python",
  "pygments_lexer": "ipython3",
  "version": 3,
  "kernelspec": {
   "name": "python3",
   "display_name": "Python 3"
  }
 },
 "cells": [
  {
   "cell_type": "code",
   "execution_count": 108,
   "metadata": {},
   "outputs": [],
   "source": [
    "import pandas as pd \n",
    "import numpy as np \n",
    "import re\n",
    "import requests\n",
    "from bs4 import BeautifulSoup"
   ]
  },
  {
   "cell_type": "markdown",
   "metadata": {},
   "source": [
    "Logic for creating the dictionaries"
   ]
  },
  {
   "cell_type": "code",
   "execution_count": 104,
   "metadata": {},
   "outputs": [],
   "source": [
    "url_to_open = \"https://en.wikipedia.org/wiki/List_of_postal_codes_of_Canada:_M\"\n",
    "html = requests.get(url_to_open)\n",
    "\n",
    "soup = BeautifulSoup(html.content, 'lxml')\n",
    "table = soup.find(\"table\").find(\"tbody\").find_all(\"tr\")\n",
    "\n",
    "postalCodes_list = []\n",
    "borough_list = []\n",
    "neighbourhood_list = []\n",
    "\n",
    "# chars to remove\n",
    "bad_chars = '()'\n",
    "i = 0\n",
    "for row in table:\n",
    "    rows = row.find_all('td')\n",
    "    for x in rows:\n",
    "        x_clean = x.get_text().strip()\n",
    "        postalCodes_list.append(x_clean[:3])\n",
    "        borough = (x_clean[3:]).split('(')[0]\n",
    "        borough_list.append(borough)\n",
    "        match = re.search(r\"\\([^)]+\\)\", x_clean)\n",
    "        if match:\n",
    "            match_text = match.group(0)\n",
    "            for c in bad_chars: match_text = match_text.replace(c, \"\")\n",
    "            match_text = match_text.replace('/', \",\")\n",
    "            neighbourhood_list.append(match_text)\n",
    "        else:\n",
    "            neighbourhood_list.append(borough.replace('/', \",\"))\n",
    "\n",
    "postalCodes = {\"Postal Code\" : postalCodes_list}\n",
    "boroughs = {\"Boroughs\" : borough_list}\n",
    "neighbourhoods = {\"Neighbourhoods\" : neighbourhood_list}"
   ]
  },
  {
   "cell_type": "markdown",
   "metadata": {},
   "source": [
    "Creating the dataframe from the dictionaries above"
   ]
  },
  {
   "cell_type": "code",
   "execution_count": 105,
   "metadata": {},
   "outputs": [],
   "source": [
    "dict_list = [postalCodes, boroughs, neighbourhoods]\n",
    "df1  = pd.DataFrame.from_dict(postalCodes)\n",
    "df2 = pd.DataFrame.from_dict(boroughs)\n",
    "df3 = pd.DataFrame.from_dict(neighbourhoods)\n",
    "df = pd.concat([df1, df2, df3], axis=1, sort=False)\n",
    "df = df[~df.Boroughs.str.contains('Not assigned')].reset_index(drop=True)"
   ]
  },
  {
   "cell_type": "code",
   "execution_count": 106,
   "metadata": {},
   "outputs": [
    {
     "data": {
      "text/plain": "(103, 3)"
     },
     "execution_count": 106,
     "metadata": {},
     "output_type": "execute_result"
    }
   ],
   "source": [
    "df.shape"
   ]
  }
 ]
}