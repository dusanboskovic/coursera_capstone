{
 "nbformat": 4,
 "nbformat_minor": 2,
 "metadata": {
  "language_info": {
   "name": "python",
   "codemirror_mode": {
    "name": "ipython",
    "version": 3
   },
   "version": "3.8.1-final"
  },
  "orig_nbformat": 2,
  "file_extension": ".py",
  "mimetype": "text/x-python",
  "name": "python",
  "npconvert_exporter": "python",
  "pygments_lexer": "ipython3",
  "version": 3,
  "kernelspec": {
   "name": "python3",
   "display_name": "Python 3"
  }
 },
 "cells": [
  {
   "cell_type": "code",
   "execution_count": 2,
   "metadata": {},
   "outputs": [],
   "source": [
    "import pandas as pd \n",
    "import numpy as np \n",
    "import re\n",
    "import requests\n",
    "from bs4 import BeautifulSoup"
   ]
  },
  {
   "cell_type": "markdown",
   "metadata": {},
   "source": [
    "Logic for creating the dictionaries"
   ]
  },
  {
   "cell_type": "code",
   "execution_count": 3,
   "metadata": {},
   "outputs": [],
   "source": [
    "url_to_open = \"https://en.wikipedia.org/wiki/List_of_postal_codes_of_Canada:_M\"\n",
    "html = requests.get(url_to_open)\n",
    "\n",
    "soup = BeautifulSoup(html.content, 'lxml')\n",
    "table = soup.find(\"table\").find(\"tbody\").find_all(\"tr\")\n",
    "\n",
    "postalCodes_list = []\n",
    "borough_list = []\n",
    "neighbourhood_list = []\n",
    "\n",
    "# chars to remove\n",
    "bad_chars = '()'\n",
    "i = 0\n",
    "for row in table:\n",
    "    rows = row.find_all('td')\n",
    "    for x in rows:\n",
    "        x_clean = x.get_text().strip()\n",
    "        postalCodes_list.append(x_clean[:3])\n",
    "        borough = (x_clean[3:]).split('(')[0]\n",
    "        borough_list.append(borough)\n",
    "        match = re.search(r\"\\([^)]+\\)\", x_clean)\n",
    "        if match:\n",
    "            match_text = match.group(0)\n",
    "            for c in bad_chars: match_text = match_text.replace(c, \"\")\n",
    "            match_text = match_text.replace('/', \",\")\n",
    "            neighbourhood_list.append(match_text)\n",
    "        else:\n",
    "            neighbourhood_list.append(borough.replace('/', \",\"))\n",
    "\n",
    "postalCodes = {\"Postal Code\" : postalCodes_list}\n",
    "boroughs = {\"Boroughs\" : borough_list}\n",
    "neighbourhoods = {\"Neighbourhoods\" : neighbourhood_list}"
   ]
  },
  {
   "cell_type": "markdown",
   "metadata": {},
   "source": [
    "Creating the dataframe from the dictionaries above"
   ]
  },
  {
   "cell_type": "code",
   "execution_count": 6,
   "metadata": {},
   "outputs": [
    {
     "data": {
      "text/html": "<div>\n<style scoped>\n    .dataframe tbody tr th:only-of-type {\n        vertical-align: middle;\n    }\n\n    .dataframe tbody tr th {\n        vertical-align: top;\n    }\n\n    .dataframe thead th {\n        text-align: right;\n    }\n</style>\n<table border=\"1\" class=\"dataframe\">\n  <thead>\n    <tr style=\"text-align: right;\">\n      <th></th>\n      <th>Postal Code</th>\n      <th>Boroughs</th>\n      <th>Neighbourhoods</th>\n    </tr>\n  </thead>\n  <tbody>\n    <tr>\n      <th>0</th>\n      <td>M3A</td>\n      <td>North York</td>\n      <td>Parkwoods</td>\n    </tr>\n    <tr>\n      <th>1</th>\n      <td>M4A</td>\n      <td>North York</td>\n      <td>Victoria Village</td>\n    </tr>\n    <tr>\n      <th>2</th>\n      <td>M5A</td>\n      <td>Downtown Toronto</td>\n      <td>Regent Park , Harbourfront</td>\n    </tr>\n    <tr>\n      <th>3</th>\n      <td>M6A</td>\n      <td>North York</td>\n      <td>Lawrence Manor , Lawrence Heights</td>\n    </tr>\n    <tr>\n      <th>4</th>\n      <td>M7A</td>\n      <td>Queen's Park / Ontario Provincial Government</td>\n      <td>Queen's Park , Ontario Provincial Government</td>\n    </tr>\n    <tr>\n      <th>...</th>\n      <td>...</td>\n      <td>...</td>\n      <td>...</td>\n    </tr>\n    <tr>\n      <th>98</th>\n      <td>M8X</td>\n      <td>Etobicoke</td>\n      <td>The Kingsway , Montgomery Road , Old Mill North</td>\n    </tr>\n    <tr>\n      <th>99</th>\n      <td>M4Y</td>\n      <td>Downtown Toronto</td>\n      <td>Church and Wellesley</td>\n    </tr>\n    <tr>\n      <th>100</th>\n      <td>M7Y</td>\n      <td>East TorontoBusiness reply mail Processing Cen...</td>\n      <td>Enclave of M4L</td>\n    </tr>\n    <tr>\n      <th>101</th>\n      <td>M8Y</td>\n      <td>Etobicoke</td>\n      <td>Old Mill South , King's Mill Park , Sunnylea ,...</td>\n    </tr>\n    <tr>\n      <th>102</th>\n      <td>M8Z</td>\n      <td>Etobicoke</td>\n      <td>Mimico NW , The Queensway West , South of Bloo...</td>\n    </tr>\n  </tbody>\n</table>\n<p>103 rows × 3 columns</p>\n</div>",
      "text/plain": "    Postal Code                                           Boroughs  \\\n0           M3A                                         North York   \n1           M4A                                         North York   \n2           M5A                                   Downtown Toronto   \n3           M6A                                         North York   \n4           M7A       Queen's Park / Ontario Provincial Government   \n..          ...                                                ...   \n98          M8X                                          Etobicoke   \n99          M4Y                                   Downtown Toronto   \n100         M7Y  East TorontoBusiness reply mail Processing Cen...   \n101         M8Y                                          Etobicoke   \n102         M8Z                                          Etobicoke   \n\n                                        Neighbourhoods  \n0                                            Parkwoods  \n1                                     Victoria Village  \n2                           Regent Park , Harbourfront  \n3                    Lawrence Manor , Lawrence Heights  \n4         Queen's Park , Ontario Provincial Government  \n..                                                 ...  \n98     The Kingsway , Montgomery Road , Old Mill North  \n99                                Church and Wellesley  \n100                                     Enclave of M4L  \n101  Old Mill South , King's Mill Park , Sunnylea ,...  \n102  Mimico NW , The Queensway West , South of Bloo...  \n\n[103 rows x 3 columns]"
     },
     "execution_count": 6,
     "metadata": {},
     "output_type": "execute_result"
    }
   ],
   "source": [
    "dict_list = [postalCodes, boroughs, neighbourhoods]\n",
    "df1  = pd.DataFrame.from_dict(postalCodes)\n",
    "df2 = pd.DataFrame.from_dict(boroughs)\n",
    "df3 = pd.DataFrame.from_dict(neighbourhoods)\n",
    "df = pd.concat([df1, df2, df3], axis=1, sort=False)\n",
    "df = df[~df.Boroughs.str.contains('Not assigned')].reset_index(drop=True)\n",
    "df"
   ]
  },
  {
   "cell_type": "code",
   "execution_count": 5,
   "metadata": {},
   "outputs": [
    {
     "data": {
      "text/plain": "(103, 3)"
     },
     "execution_count": 5,
     "metadata": {},
     "output_type": "execute_result"
    }
   ],
   "source": [
    "df.shape"
   ]
  },
  {
   "cell_type": "code",
   "execution_count": null,
   "metadata": {},
   "outputs": [],
   "source": []
  }
 ]
}