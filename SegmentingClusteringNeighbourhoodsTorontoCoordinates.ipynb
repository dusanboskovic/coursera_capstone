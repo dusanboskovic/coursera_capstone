{
 "nbformat": 4,
 "nbformat_minor": 2,
 "metadata": {
  "language_info": {
   "name": "python",
   "codemirror_mode": {
    "name": "ipython",
    "version": 3
   },
   "version": "3.8.1-final"
  },
  "orig_nbformat": 2,
  "file_extension": ".py",
  "mimetype": "text/x-python",
  "name": "python",
  "npconvert_exporter": "python",
  "pygments_lexer": "ipython3",
  "version": 3,
  "kernelspec": {
   "name": "python3",
   "display_name": "Python 3"
  }
 },
 "cells": [
  {
   "cell_type": "code",
   "execution_count": 3,
   "metadata": {},
   "outputs": [],
   "source": [
    "import pandas as pd \n",
    "import numpy as np \n",
    "import re\n",
    "import requests\n",
    "from bs4 import BeautifulSoup\n",
    "import geocoder"
   ]
  },
  {
   "cell_type": "code",
   "execution_count": 24,
   "metadata": {},
   "outputs": [],
   "source": [
    "url_to_open = \"https://en.wikipedia.org/wiki/List_of_postal_codes_of_Canada:_M\"\n",
    "html = requests.get(url_to_open)\n",
    "\n",
    "soup = BeautifulSoup(html.content, 'lxml')\n",
    "table = soup.find(\"table\").find(\"tbody\").find_all(\"tr\")\n",
    "\n",
    "postalCodes_list = []\n",
    "borough_list = []\n",
    "neighbourhood_list = []\n",
    "\n",
    "# chars to remove\n",
    "bad_chars = '()'\n",
    "i = 0\n",
    "for row in table:\n",
    "    rows = row.find_all('td')\n",
    "    for x in rows:\n",
    "        x_clean = x.get_text().strip()\n",
    "        match = re.search(r\"\\([^)]+\\)\", x_clean)\n",
    "        if match:\n",
    "            match_text = match.group(0)\n",
    "            for c in bad_chars: match_text = match_text.replace(c, \"\")\n",
    "            match_text = match_text.replace('/', \",\")\n",
    "            neighbourhood_list.append(match_text)\n",
    "            postalCodes_list.append(x_clean[:3])\n",
    "            borough = (x_clean[3:]).split('(')[0]\n",
    "            borough_list.append(borough)\n",
    "\n",
    "#postalCodes = {\"Postal Code\" : postalCodes_list}\n",
    "#boroughs = {\"Boroughs\" : borough_list}\n",
    "#neighbourhoods = {\"Neighbourhoods\" : neighbourhood_list}"
   ]
  },
  {
   "cell_type": "code",
   "execution_count": 30,
   "metadata": {},
   "outputs": [
    {
     "data": {
      "text/html": "<div>\n<style scoped>\n    .dataframe tbody tr th:only-of-type {\n        vertical-align: middle;\n    }\n\n    .dataframe tbody tr th {\n        vertical-align: top;\n    }\n\n    .dataframe thead th {\n        text-align: right;\n    }\n</style>\n<table border=\"1\" class=\"dataframe\">\n  <thead>\n    <tr style=\"text-align: right;\">\n      <th></th>\n      <th>Postal Codes</th>\n      <th>Boroughs</th>\n      <th>Neighbourhoods</th>\n      <th>Latitude</th>\n      <th>Logitude</th>\n    </tr>\n  </thead>\n  <tbody>\n  </tbody>\n</table>\n</div>",
      "text/plain": "Empty DataFrame\nColumns: [Postal Codes, Boroughs, Neighbourhoods, Latitude, Logitude]\nIndex: []"
     },
     "execution_count": 30,
     "metadata": {},
     "output_type": "execute_result"
    }
   ],
   "source": [
    "column_names= ['Postal Codes', 'Boroughs', 'Neighbourhoods', 'Latitude', 'Logitude']\n",
    "df  = pd.DataFrame(columns=column_names)\n",
    "df\n",
    "# df = pd.concat([df1, df2, df3], axis=1, sort=False)\n",
    "#df = df[~df.Boroughs.str.contains('Not assigned')].reset_index(drop=True)"
   ]
  },
  {
   "cell_type": "code",
   "execution_count": 29,
   "metadata": {},
   "outputs": [
    {
     "name": "stdout",
     "output_type": "stream",
     "text": "M3A\n<[OK] Arcgis - Geocode [M3A]>\n[43.75242000000003, -79.32924245299995]\nM4A\n<[OK] Arcgis - Geocode [M4A]>\n[43.73060024600005, -79.31326499999994]\nM5A\n<[OK] Arcgis - Geocode [M5A]>\n[43.65029500000003, -79.35916572299999]\nM6A\n<[OK] Arcgis - Geocode [M6A]>\n[43.72327000000007, -79.45128601699997]\nM9A\n<[OK] Arcgis - Geocode [M9A]>\n[43.66229908300005, -79.52819499999998]\nM1B\n<[OK] Arcgis - Geocode [M1B]>\n[43.811525000000074, -79.19551746399998]\nM3B\n<[OK] Arcgis - Geocode [M3B]>\n[43.749055000000055, -79.36222672499997]\nM4B\n<[OK] Arcgis - Geocode [M4B]>\n[43.707535000000064, -79.31177329699995]\nM5B\n<[OK] Arcgis - Geocode [M5B]>\n[43.65736301100003, -79.37817999999999]\nM6B\n<[OK] Arcgis - Geocode [M6B]>\n[43.70799000000005, -79.44836733199998]\nM9B\n<[OK] Arcgis - Geocode [M9B]>\n[43.65034698100004, -79.55503999999996]\nM1C\n<[OK] Arcgis - Geocode [M1C]>\n[43.78566500000005, -79.15872457299997]\nM3C\n<[OK] Arcgis - Geocode [M3C]>\n[43.72142500000007, -79.34345422799998]\nM4C\n<[OK] Arcgis - Geocode [M4C]>\n[43.689640000000054, -79.30687387799998]\nM5C\n<[OK] Arcgis - Geocode [M5C]>\n[43.65121000000005, -79.37548057699996]\nM6C\n<[OK] Arcgis - Geocode [M6C]>\n[43.69210517800008, -79.43035499999996]\nM9C\n<[OK] Arcgis - Geocode [M9C]>\n[43.648573449000025, -79.57824999999997]\nM1E\n<[OK] Arcgis - Geocode [M1E]>\n[43.76581500000003, -79.17519294699997]\nM4E\n<[OK] Arcgis - Geocode [M4E]>\n[43.67653121600006, -79.29542499999997]\nM5E\n<[OK] Arcgis - Geocode [M5E]>\n[43.64516015600003, -79.37367499999993]\nM6E\n<[OK] Arcgis - Geocode [M6E]>\n[43.68864000000008, -79.45101761399997]\nM1G\n<[OK] Arcgis - Geocode [M1G]>\n[43.768369121000035, -79.21758999999997]\nM4G\n<[OK] Arcgis - Geocode [M4G]>\n[43.70949500000006, -79.36398897099997]\nM5G\n<[OK] Arcgis - Geocode [M5G]>\n[43.65609081300005, -79.38492999999994]\nM6G\n<[OK] Arcgis - Geocode [M6G]>\n[43.66878132800008, -79.42070999999999]\nM1H\n<[OK] Arcgis - Geocode [M1H]>\n[43.76968799900004, -79.23943999999995]\nM2H\n<[OK] Arcgis - Geocode [M2H]>\n[43.80284500000005, -79.35620744999994]\nM3H\n<[OK] Arcgis - Geocode [M3H]>\n[43.75787500000007, -79.44868764799998]\nM4H\n<[OK] Arcgis - Geocode [M4H]>\n[43.70124000000004, -79.34982482599997]\nM5H\n<[OK] Arcgis - Geocode [M5H]>\n[43.64970000000005, -79.38258157399997]\nM6H\n<[OK] Arcgis - Geocode [M6H]>\n[43.66508694300006, -79.43870499999997]\nM1J\n<[OK] Arcgis - Geocode [M1J]>\n[43.74312500000008, -79.23174973599998]\nM2J\n<[OK] Arcgis - Geocode [M2J]>\n[43.780970000000025, -79.34781328099996]\nM3J\n<[OK] Arcgis - Geocode [M3J]>\n[43.76476500000007, -79.48809440699995]\nM4J\n<[OK] Arcgis - Geocode [M4J]>\n[43.688765344000046, -79.33417499999996]\nM5J\n<[OK] Arcgis - Geocode [M5J]>\n[43.630210000000034, -79.36243320899996]\nM6J\n<[OK] Arcgis - Geocode [M6J]>\n[43.64852500000006, -79.41775713399994]\nM1K\n<[OK] Arcgis - Geocode [M1K]>\n[43.72627568400003, -79.26362499999993]\nM2K\n<[OK] Arcgis - Geocode [M2K]>\n[43.781015000000025, -79.38052867199997]\nM3K\n<[OK] Arcgis - Geocode [M3K]>\n[43.73868500000003, -79.46731999999997]\nM4K\n<[OK] Arcgis - Geocode [M4K]>\n[43.68317787500007, -79.35510499999998]\nM5K\n<[OK] Arcgis - Geocode [M5K]>\n[43.64710000000008, -79.38153109899997]\nM6K\n<[OK] Arcgis - Geocode [M6K]>\n[43.639410000000055, -79.42436201999999]\nM1L\n<[OK] Arcgis - Geocode [M1L]>\n[43.71305350000006, -79.28505499999994]\nM2L\n<[OK] Arcgis - Geocode [M2L]>\n[43.75709511900004, -79.38031999999998]\nM3L\n<[OK] Arcgis - Geocode [M3L]>\n[43.720140111000035, -79.51697999999999]\nM4L\n<[OK] Arcgis - Geocode [M4L]>\n[43.66796500000004, -79.31466717299998]\nM5L\n<[OK] Arcgis - Geocode [M5L]>\n[43.64839500000005, -79.37886491099994]\nM6L\n<[OK] Arcgis - Geocode [M6L]>\n[43.71381000000008, -79.48830076899998]\nM9L\n<[OK] Arcgis - Geocode [M9L]>\n[43.75950000000006, -79.55702785699998]\nM1M\n<[OK] Arcgis - Geocode [M1M]>\n[43.724234575000025, -79.22792499999997]\nM2M\n<[OK] Arcgis - Geocode [M2M]>\n[43.79147500000005, -79.41360487299994]\nM3M\n<[OK] Arcgis - Geocode [M3M]>\n[43.73369000000008, -79.49674024199999]\nM4M\n<[OK] Arcgis - Geocode [M4M]>\n[43.660628993000046, -79.33485499999995]\nM5M\n<[OK] Arcgis - Geocode [M5M]>\n[43.735460000000046, -79.41914787599995]\nM6M\n<[OK] Arcgis - Geocode [M6M]>\n[43.69453000000004, -79.48448943099999]\nM9M\n<[OK] Arcgis - Geocode [M9M]>\n[43.73370500000004, -79.53750768599997]\nM1N\n<[OK] Arcgis - Geocode [M1N]>\n[43.69677000000007, -79.25996735299998]\nM2N\n<[OK] Arcgis - Geocode [M2N]>\n[43.76816500000007, -79.40741984599998]\nM3N\n<[OK] Arcgis - Geocode [M3N]>\n[43.75537065200007, -79.51958999999994]\nM4N\n<[OK] Arcgis - Geocode [M4N]>\n[43.72842000000003, -79.38713269199997]\nM5N\n<[OK] Arcgis - Geocode [M5N]>\n[43.711941154000044, -79.41911999999996]\nM6N\n<[OK] Arcgis - Geocode [M6N]>\n[43.67612500000007, -79.48193234099995]\nM9N\n<[OK] Arcgis - Geocode [M9N]>\n[43.704845000000034, -79.51754601599998]\nM1P\n<[OK] Arcgis - Geocode [M1P]>\n[43.759975000000054, -79.26897418299995]\nM2P\n<[OK] Arcgis - Geocode [M2P]>\n[43.74789500000003, -79.39991893899997]\nM4P\n<[OK] Arcgis - Geocode [M4P]>\n[43.71275500000007, -79.38851449699996]\nM5P\n<[OK] Arcgis - Geocode [M5P]>\n[43.69478500000008, -79.41440483299994]\nM6P\n<[OK] Arcgis - Geocode [M6P]>\n[43.659935000000075, -79.46301926299998]\nM9P\n<[OK] Arcgis - Geocode [M9P]>\n[43.69650500000006, -79.53025233799997]\nM1R\n<[OK] Arcgis - Geocode [M1R]>\n[43.750710464000065, -79.30055999999996]\nM2R\n<[OK] Arcgis - Geocode [M2R]>\n[43.77769500000005, -79.44579657299994]\nM4R\n<[OK] Arcgis - Geocode [M4R]>\n[43.71452278400005, -79.40695999999997]\nM5R\n<[OK] Arcgis - Geocode [M5R]>\n[43.674840000000074, -79.40376823999998]\nM6R\n<[OK] Arcgis - Geocode [M6R]>\n[43.64787000000007, -79.44977619099996]\nM7R\n<[OK] Arcgis - Geocode [Toronto, Ontario]>\n[43.648690000000045, -79.38543999999996]\nM9R\n<[OK] Arcgis - Geocode [M9R]>\n[43.68681000000004, -79.55728354099995]\nM1S\n<[OK] Arcgis - Geocode [M1S]>\n[43.79394000000008, -79.26797613999997]\nM4S\n<[OK] Arcgis - Geocode [M4S]>\n[43.70339500000006, -79.38596360499997]\nM5S\n<[OK] Arcgis - Geocode [M5S]>\n[43.663110000000074, -79.40180056699995]\nM6S\n<[OK] Arcgis - Geocode [M6S]>\n[43.64962000000003, -79.47614085899994]\nM1T\n<[OK] Arcgis - Geocode [M1T]>\n[43.78472500000004, -79.29906603299997]\nM4T\n<[OK] Arcgis - Geocode [M4T]>\n[43.69068500000003, -79.38294574299994]\nM5T\n<[OK] Arcgis - Geocode [M5T]>\n[43.653530000000046, -79.39723268299997]\nM1V\n<[OK] Arcgis - Geocode [M1V]>\n[43.81768500000004, -79.28018721399997]\nM4V\n<[OK] Arcgis - Geocode [M4V]>\n[43.68607377100005, -79.40226499999994]\nM5V\n<[OK] Arcgis - Geocode [M5V]>\n[43.64081500000003, -79.39953781899999]\nM8V\n<[OK] Arcgis - Geocode [M8V]>\n[43.61220000000003, -79.49514569099995]\nM9V\n<[OK] Arcgis - Geocode [M9V]>\n[43.74314500000003, -79.58466389699998]\nM1W\n<[OK] Arcgis - Geocode [M1W]>\n[43.80088292800008, -79.32073999999994]\nM4W\n<[OK] Arcgis - Geocode [M4W]>\n[43.68220500000007, -79.37794519699997]\nM5W\n<[OK] Arcgis - Geocode [M5W]>\n[43.648690000000045, -79.38543999999996]\nM8W\n<[OK] Arcgis - Geocode [M8W]>\n[43.60113082100003, -79.53878499999996]\nM9W\n<[OK] Arcgis - Geocode [M9W]>\n[43.71174000000008, -79.57918134599998]\nM1X\n<[OK] Arcgis - Geocode [M1X]>\n[43.83421500000003, -79.21670085099998]\nM4X\n<[OK] Arcgis - Geocode [M4X]>\n[43.66816000000006, -79.36660236199998]\nM5X\n<[OK] Arcgis - Geocode [M5X]>\n[43.64828000000006, -79.38146082599997]\nM8X\n<[OK] Arcgis - Geocode [M8X]>\n[43.653760000000034, -79.51089004199997]\nM4Y\n<[OK] Arcgis - Geocode [M4Y]>\n[43.666585000000055, -79.38130203699995]\nM7Y\n<[OK] Arcgis - Geocode [M7Y]>\n[43.648690000000045, -79.38543999999996]\nM8Y\n<[OK] Arcgis - Geocode [M8Y]>\n[43.63283500000006, -79.48955044599995]\nM8Z\n<[OK] Arcgis - Geocode [M8Z]>\n[43.624630000000025, -79.52694976199996]\n"
    },
    {
     "data": {
      "text/html": "<div>\n<style scoped>\n    .dataframe tbody tr th:only-of-type {\n        vertical-align: middle;\n    }\n\n    .dataframe tbody tr th {\n        vertical-align: top;\n    }\n\n    .dataframe thead th {\n        text-align: right;\n    }\n</style>\n<table border=\"1\" class=\"dataframe\">\n  <thead>\n    <tr style=\"text-align: right;\">\n      <th></th>\n      <th>Postal Codes</th>\n      <th>Boroughs</th>\n      <th>Neighbourhoods</th>\n      <th>Latitude</th>\n      <th>Logitude</th>\n    </tr>\n  </thead>\n  <tbody>\n    <tr>\n      <th>0</th>\n      <td>M3A</td>\n      <td>North York</td>\n      <td>Parkwoods</td>\n      <td>43.752420</td>\n      <td>-79.329242</td>\n    </tr>\n    <tr>\n      <th>1</th>\n      <td>M4A</td>\n      <td>North York</td>\n      <td>Victoria Village</td>\n      <td>43.730600</td>\n      <td>-79.313265</td>\n    </tr>\n    <tr>\n      <th>2</th>\n      <td>M5A</td>\n      <td>Downtown Toronto</td>\n      <td>Regent Park , Harbourfront</td>\n      <td>43.650295</td>\n      <td>-79.359166</td>\n    </tr>\n    <tr>\n      <th>3</th>\n      <td>M6A</td>\n      <td>North York</td>\n      <td>Lawrence Manor , Lawrence Heights</td>\n      <td>43.723270</td>\n      <td>-79.451286</td>\n    </tr>\n    <tr>\n      <th>4</th>\n      <td>M9A</td>\n      <td>Etobicoke</td>\n      <td>Islington Avenue</td>\n      <td>43.662299</td>\n      <td>-79.528195</td>\n    </tr>\n    <tr>\n      <th>...</th>\n      <td>...</td>\n      <td>...</td>\n      <td>...</td>\n      <td>...</td>\n      <td>...</td>\n    </tr>\n    <tr>\n      <th>97</th>\n      <td>M8X</td>\n      <td>Etobicoke</td>\n      <td>The Kingsway , Montgomery Road , Old Mill North</td>\n      <td>43.653760</td>\n      <td>-79.510890</td>\n    </tr>\n    <tr>\n      <th>98</th>\n      <td>M4Y</td>\n      <td>Downtown Toronto</td>\n      <td>Church and Wellesley</td>\n      <td>43.666585</td>\n      <td>-79.381302</td>\n    </tr>\n    <tr>\n      <th>99</th>\n      <td>M7Y</td>\n      <td>East TorontoBusiness reply mail Processing Cen...</td>\n      <td>Enclave of M4L</td>\n      <td>43.648690</td>\n      <td>-79.385440</td>\n    </tr>\n    <tr>\n      <th>100</th>\n      <td>M8Y</td>\n      <td>Etobicoke</td>\n      <td>Old Mill South , King's Mill Park , Sunnylea ,...</td>\n      <td>43.632835</td>\n      <td>-79.489550</td>\n    </tr>\n    <tr>\n      <th>101</th>\n      <td>M8Z</td>\n      <td>Etobicoke</td>\n      <td>Mimico NW , The Queensway West , South of Bloo...</td>\n      <td>43.624630</td>\n      <td>-79.526950</td>\n    </tr>\n  </tbody>\n</table>\n<p>102 rows × 5 columns</p>\n</div>",
      "text/plain": "    Postal Codes                                           Boroughs  \\\n0            M3A                                         North York   \n1            M4A                                         North York   \n2            M5A                                   Downtown Toronto   \n3            M6A                                         North York   \n4            M9A                                          Etobicoke   \n..           ...                                                ...   \n97           M8X                                          Etobicoke   \n98           M4Y                                   Downtown Toronto   \n99           M7Y  East TorontoBusiness reply mail Processing Cen...   \n100          M8Y                                          Etobicoke   \n101          M8Z                                          Etobicoke   \n\n                                        Neighbourhoods   Latitude   Logitude  \n0                                            Parkwoods  43.752420 -79.329242  \n1                                     Victoria Village  43.730600 -79.313265  \n2                           Regent Park , Harbourfront  43.650295 -79.359166  \n3                    Lawrence Manor , Lawrence Heights  43.723270 -79.451286  \n4                                     Islington Avenue  43.662299 -79.528195  \n..                                                 ...        ...        ...  \n97     The Kingsway , Montgomery Road , Old Mill North  43.653760 -79.510890  \n98                                Church and Wellesley  43.666585 -79.381302  \n99                                      Enclave of M4L  43.648690 -79.385440  \n100  Old Mill South , King's Mill Park , Sunnylea ,...  43.632835 -79.489550  \n101  Mimico NW , The Queensway West , South of Bloo...  43.624630 -79.526950  \n\n[102 rows x 5 columns]"
     },
     "execution_count": 29,
     "metadata": {},
     "output_type": "execute_result"
    }
   ],
   "source": [
    "# initialize your variable to None\n",
    "lat_lng_coords = None\n",
    "\n",
    "# loop until you get the coordinates\n",
    "for x in range(len(postalCodes_list)):\n",
    "    print(postalCodes_list[x])\n",
    "    g = geocoder.arcgis('{}, Toronto, Ontario'.format(postalCodes_list[x]))\n",
    "    print(g)\n",
    "    lat_lng_coords = g.latlng\n",
    "    print(lat_lng_coords)\n",
    "\n",
    "    p = postalCodes_list[x]\n",
    "    b = borough_list[x]\n",
    "    n = neighbourhood_list[x]\n",
    "    latitude = lat_lng_coords[0]\n",
    "    longitude = lat_lng_coords[1]\n",
    "\n",
    "    df = df.append({'Postal Codes' : p,\n",
    "                    'Boroughs' : b,\n",
    "                    'Neighbourhoods' : n,\n",
    "                    'Latitude' : latitude,\n",
    "                    'Logitude' : longitude},\n",
    "                    ignore_index=True\n",
    "    )\n",
    "df\n"
   ]
  },
  {
   "cell_type": "code",
   "execution_count": 31,
   "metadata": {},
   "outputs": [
    {
     "data": {
      "text/plain": "(0, 5)"
     },
     "execution_count": 31,
     "metadata": {},
     "output_type": "execute_result"
    }
   ],
   "source": [
    "df.shape"
   ]
  },
  {
   "cell_type": "code",
   "execution_count": null,
   "metadata": {},
   "outputs": [],
   "source": []
  }
 ]
}